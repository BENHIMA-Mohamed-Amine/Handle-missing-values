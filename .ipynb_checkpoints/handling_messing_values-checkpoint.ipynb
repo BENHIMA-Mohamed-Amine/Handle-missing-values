{
 "cells": [
  {
   "cell_type": "markdown",
   "id": "d1b7b99b",
   "metadata": {},
   "source": [
    "# Dealing messing values:\n",
    "## Different Techninque to handle NA values:\n",
    "- Delete all the messing values\n",
    "- Replace them with the mean, median or mode\n",
    "- Build a ML model that predicts the NA values\n",
    "## Handling messing values in Titanic dataset from kaggle\n",
    "we will handle messing values in the [Titanic dataset](https://www.kaggle.com/c/titanic) "
   ]
  },
  {
   "cell_type": "code",
   "execution_count": null,
   "id": "18134f8c",
   "metadata": {},
   "outputs": [],
   "source": []
  }
 ],
 "metadata": {
  "kernelspec": {
   "display_name": "Python 3 (ipykernel)",
   "language": "python",
   "name": "python3"
  },
  "language_info": {
   "codemirror_mode": {
    "name": "ipython",
    "version": 3
   },
   "file_extension": ".py",
   "mimetype": "text/x-python",
   "name": "python",
   "nbconvert_exporter": "python",
   "pygments_lexer": "ipython3",
   "version": "3.10.9"
  }
 },
 "nbformat": 4,
 "nbformat_minor": 5
}
